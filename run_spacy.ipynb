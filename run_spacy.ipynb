{
 "cells": [
  {
   "cell_type": "code",
   "execution_count": 1,
   "metadata": {},
   "outputs": [
    {
     "name": "stderr",
     "output_type": "stream",
     "text": [
      "2023-05-29 15:01:56.552827: I tensorflow/core/platform/cpu_feature_guard.cc:182] This TensorFlow binary is optimized to use available CPU instructions in performance-critical operations.\n",
      "To enable the following instructions: AVX2 FMA, in other operations, rebuild TensorFlow with the appropriate compiler flags.\n",
      "2023-05-29 15:01:57.022333: W tensorflow/compiler/tf2tensorrt/utils/py_utils.cc:38] TF-TRT Warning: Could not find TensorRT\n",
      "2023-05-29 15:01:57.609533: I tensorflow/compiler/xla/stream_executor/cuda/cuda_gpu_executor.cc:996] successful NUMA node read from SysFS had negative value (-1), but there must be at least one NUMA node, so returning NUMA node zero. See more at https://github.com/torvalds/linux/blob/v6.0/Documentation/ABI/testing/sysfs-bus-pci#L344-L355\n",
      "2023-05-29 15:01:57.609774: I tensorflow/compiler/xla/stream_executor/cuda/cuda_gpu_executor.cc:996] successful NUMA node read from SysFS had negative value (-1), but there must be at least one NUMA node, so returning NUMA node zero. See more at https://github.com/torvalds/linux/blob/v6.0/Documentation/ABI/testing/sysfs-bus-pci#L344-L355\n",
      "2023-05-29 15:01:57.610371: I tensorflow/compiler/xla/stream_executor/cuda/cuda_gpu_executor.cc:996] successful NUMA node read from SysFS had negative value (-1), but there must be at least one NUMA node, so returning NUMA node zero. See more at https://github.com/torvalds/linux/blob/v6.0/Documentation/ABI/testing/sysfs-bus-pci#L344-L355\n",
      "2023-05-29 15:01:57.610547: I tensorflow/compiler/xla/stream_executor/cuda/cuda_gpu_executor.cc:996] successful NUMA node read from SysFS had negative value (-1), but there must be at least one NUMA node, so returning NUMA node zero. See more at https://github.com/torvalds/linux/blob/v6.0/Documentation/ABI/testing/sysfs-bus-pci#L344-L355\n",
      "2023-05-29 15:01:57.610716: I tensorflow/compiler/xla/stream_executor/cuda/cuda_gpu_executor.cc:996] successful NUMA node read from SysFS had negative value (-1), but there must be at least one NUMA node, so returning NUMA node zero. See more at https://github.com/torvalds/linux/blob/v6.0/Documentation/ABI/testing/sysfs-bus-pci#L344-L355\n",
      "2023-05-29 15:01:57.610873: I tensorflow/compiler/xla/stream_executor/cuda/cuda_gpu_executor.cc:996] successful NUMA node read from SysFS had negative value (-1), but there must be at least one NUMA node, so returning NUMA node zero. See more at https://github.com/torvalds/linux/blob/v6.0/Documentation/ABI/testing/sysfs-bus-pci#L344-L355\n"
     ]
    }
   ],
   "source": [
    "from IPython.display import display, HTML\n",
    "\n",
    "import spacy\n",
    "# Check if 'en_core_web_sm' model is installed\n",
    "if not spacy.util.is_package('en_core_web_sm'):\n",
    "    # Install 'en_core_web_sm' model\n",
    "    spacy.cli.download('en_core_web_sm')\n",
    "\n",
    "# Load the pre-trained spaCy model\n",
    "nlp = spacy.load('en_core_web_sm')\n"
   ]
  },
  {
   "cell_type": "code",
   "execution_count": null,
   "metadata": {},
   "outputs": [
    {
     "name": "stdout",
     "output_type": "stream",
     "text": [
      "\n",
      "\n",
      "<div style=\"display: grid;grid-template-columns: 1fr 1fr;grid-gap: 20px;\"><p></p><p></p><p><span style=\"background: #69E2FB;\">John Smith,</span> a <span style=\"background: #69E2FB;\">45-year-old</span> mechanic at <span style=\"background: #69E2FB;\">Downtown Auto Repair, 456</span> South Street, Springfield, <span style=\"background: #69E2FB;\">IL,</span> reported persistent headaches over <span style=\"background: #69E2FB;\">the last week</span></p><p><span style=\"background: #69E2FB;\">&lt;REDACTED&gt;,</span> a <span style=\"background: #69E2FB;\">&lt;REDACTED&gt;</span> mechanic at <span style=\"background: #69E2FB;\">&lt;REDACTED&gt;, &lt;REDACTED&gt;</span> South Street, Springfield, <span style=\"background: #69E2FB;\">&lt;REDACTED&gt;,</span> reported persistent headaches over <span style=\"background: #69E2FB;\">&lt;REDACTED&gt;</span></p><p>His next of kin is <span style=\"background: #69E2FB;\">Emily Smith,</span> who can be contacted at <span style=\"background: #69E2FB;\">555-123-4567</span></p><p>His next of kin is <span style=\"background: #69E2FB;\">&lt;REDACTED&gt;,</span> who can be contacted at <span style=\"background: #69E2FB;\">555-123-&lt;REDACTED&gt;7</span></p><p><span style=\"background: #69E2FB;\">John&#x27;s</span> email address is johnsmith@email.com</p><p><span style=\"background: #69E2FB;\">&lt;REDACTED&gt;&#x27;s</span> email address is johnsmith@email.com</p><p>His insurance provider is <span style=\"background: #69E2FB;\">Springfield Health Insurance,</span> policy number JS0011234.</p><p>His insurance provider is <span style=\"background: #69E2FB;\">&lt;REDACTED&gt;,</span> policy number JS0011234.</p></div>\n"
     ]
    },
    {
     "data": {
      "text/html": [
       "<div style=\"display: grid;grid-template-columns: 1fr 1fr;grid-gap: 20px;\"><p></p><p></p><p><span style=\"background: #69E2FB;\">John Smith,</span> a <span style=\"background: #69E2FB;\">45-year-old</span> mechanic at <span style=\"background: #69E2FB;\">Downtown Auto Repair, 456</span> South Street, Springfield, <span style=\"background: #69E2FB;\">IL,</span> reported persistent headaches over <span style=\"background: #69E2FB;\">the last week</span></p><p><span style=\"background: #69E2FB;\">&lt;REDACTED&gt;,</span> a <span style=\"background: #69E2FB;\">&lt;REDACTED&gt;</span> mechanic at <span style=\"background: #69E2FB;\">&lt;REDACTED&gt;, &lt;REDACTED&gt;</span> South Street, Springfield, <span style=\"background: #69E2FB;\">&lt;REDACTED&gt;,</span> reported persistent headaches over <span style=\"background: #69E2FB;\">&lt;REDACTED&gt;</span></p><p>His next of kin is <span style=\"background: #69E2FB;\">Emily Smith,</span> who can be contacted at <span style=\"background: #69E2FB;\">555-123-4567</span></p><p>His next of kin is <span style=\"background: #69E2FB;\">&lt;REDACTED&gt;,</span> who can be contacted at <span style=\"background: #69E2FB;\">555-123-&lt;REDACTED&gt;7</span></p><p><span style=\"background: #69E2FB;\">John&#x27;s</span> email address is johnsmith@email.com</p><p><span style=\"background: #69E2FB;\">&lt;REDACTED&gt;&#x27;s</span> email address is johnsmith@email.com</p><p>His insurance provider is <span style=\"background: #69E2FB;\">Springfield Health Insurance,</span> policy number JS0011234.</p><p>His insurance provider is <span style=\"background: #69E2FB;\">&lt;REDACTED&gt;,</span> policy number JS0011234.</p></div>"
      ],
      "text/plain": [
       "<IPython.core.display.HTML object>"
      ]
     },
     "metadata": {},
     "output_type": "display_data"
    },
    {
     "name": "stdout",
     "output_type": "stream",
     "text": [
      "\n",
      "\n",
      "<div style=\"display: grid;grid-template-columns: 1fr 1fr;grid-gap: 20px;\"><p></p><p></p><p><span style=\"background: #69E2FB;\">Jane Doe, age 30,</span> a teacher at <span style=\"background: #69E2FB;\">Central High School, 890 Broadway, NY, NY,</span> presented symptoms of chronic fatigue</p><p><span style=\"background: #69E2FB;\">&lt;REDACTED&gt;, &lt;REDACTED&gt;,</span> a teacher at <span style=\"background: #69E2FB;\">&lt;REDACTED&gt;, &lt;REDACTED&gt; &lt;REDACTED&gt;, &lt;REDACTED&gt;, &lt;REDACTED&gt;,</span> presented symptoms of chronic fatigue</p><p>She has been feeling this way for <span style=\"background: #69E2FB;\">around 2 months</span> and suspects it&#x27;s due to increased work stress</p><p>She has been feeling this way for <span style=\"background: #69E2FB;\">&lt;REDACTED&gt;</span> and suspects it&#x27;s due to increased work stress</p><p>Her spouse&#x27;s name is <span style=\"background: #69E2FB;\">Robert Doe,</span> contactable at robertdoe@email.com</p><p>Her spouse&#x27;s name is <span style=\"background: #69E2FB;\">&lt;REDACTED&gt;,</span> contactable at robertdoe@email.com</p><p><span style=\"background: #69E2FB;\">Jane&#x27;s</span> insurance policy number is <span style=\"background: #69E2FB;\">JD8901234</span> provided by <span style=\"background: #69E2FB;\">NY</span> Health Cover.</p><p><span style=\"background: #69E2FB;\">&lt;REDACTED&gt;&#x27;s</span> insurance policy number is <span style=\"background: #69E2FB;\">JD&lt;REDACTED&gt;1234</span> provided by <span style=\"background: #69E2FB;\">&lt;REDACTED&gt;</span> Health Cover.</p></div>\n"
     ]
    },
    {
     "data": {
      "text/html": [
       "<div style=\"display: grid;grid-template-columns: 1fr 1fr;grid-gap: 20px;\"><p></p><p></p><p><span style=\"background: #69E2FB;\">Jane Doe, age 30,</span> a teacher at <span style=\"background: #69E2FB;\">Central High School, 890 Broadway, NY, NY,</span> presented symptoms of chronic fatigue</p><p><span style=\"background: #69E2FB;\">&lt;REDACTED&gt;, &lt;REDACTED&gt;,</span> a teacher at <span style=\"background: #69E2FB;\">&lt;REDACTED&gt;, &lt;REDACTED&gt; &lt;REDACTED&gt;, &lt;REDACTED&gt;, &lt;REDACTED&gt;,</span> presented symptoms of chronic fatigue</p><p>She has been feeling this way for <span style=\"background: #69E2FB;\">around 2 months</span> and suspects it&#x27;s due to increased work stress</p><p>She has been feeling this way for <span style=\"background: #69E2FB;\">&lt;REDACTED&gt;</span> and suspects it&#x27;s due to increased work stress</p><p>Her spouse&#x27;s name is <span style=\"background: #69E2FB;\">Robert Doe,</span> contactable at robertdoe@email.com</p><p>Her spouse&#x27;s name is <span style=\"background: #69E2FB;\">&lt;REDACTED&gt;,</span> contactable at robertdoe@email.com</p><p><span style=\"background: #69E2FB;\">Jane&#x27;s</span> insurance policy number is <span style=\"background: #69E2FB;\">JD8901234</span> provided by <span style=\"background: #69E2FB;\">NY</span> Health Cover.</p><p><span style=\"background: #69E2FB;\">&lt;REDACTED&gt;&#x27;s</span> insurance policy number is <span style=\"background: #69E2FB;\">JD&lt;REDACTED&gt;1234</span> provided by <span style=\"background: #69E2FB;\">&lt;REDACTED&gt;</span> Health Cover.</p></div>"
      ],
      "text/plain": [
       "<IPython.core.display.HTML object>"
      ]
     },
     "metadata": {},
     "output_type": "display_data"
    },
    {
     "name": "stdout",
     "output_type": "stream",
     "text": [
      "\n",
      "\n",
      "<div style=\"display: grid;grid-template-columns: 1fr 1fr;grid-gap: 20px;\"><p></p><p></p><p><span style=\"background: #69E2FB;\">Tom Johnson, 55,</span> of 456 Maple Dr, Austin, <span style=\"background: #69E2FB;\">TX,</span> discussed his ongoing issues with insomnia</p><p><span style=\"background: #69E2FB;\">&lt;REDACTED&gt;, &lt;REDACTED&gt;,</span> of 456 Maple Dr, Austin, <span style=\"background: #69E2FB;\">&lt;REDACTED&gt;,</span> discussed his ongoing issues with insomnia</p><p>His wife, <span style=\"background: #69E2FB;\">Mary Johnson,</span> a <span style=\"background: #69E2FB;\">50-year-old</span> nurse at <span style=\"background: #69E2FB;\">Austin Hospital,</span> may also need consultation for stress</p><p>His wife, <span style=\"background: #69E2FB;\">&lt;REDACTED&gt;,</span> a <span style=\"background: #69E2FB;\">&lt;REDACTED&gt;</span> nurse at <span style=\"background: #69E2FB;\">&lt;REDACTED&gt;,</span> may also need consultation for stress</p><p><span style=\"background: #69E2FB;\">Tom&#x27;s</span> cell number is <span style=\"background: #69E2FB;\">555-890-1234</span> and <span style=\"background: #69E2FB;\">Mary&#x27;s</span> is <span style=\"background: #69E2FB;\">555-890-1235</span></p><p><span style=\"background: #69E2FB;\">&lt;REDACTED&gt;&#x27;s</span> cell number is <span style=\"background: #69E2FB;\">&lt;REDACTED&gt;5-890-1234</span> and <span style=\"background: #69E2FB;\">&lt;REDACTED&gt;&#x27;s</span> is <span style=\"background: #69E2FB;\">&lt;REDACTED&gt;5-890-1235</span></p><p>Their shared email address is johnsonfamily@email.com</p><p>Their shared email address is johnsonfamily@email.com</p><p>Their insurance provider is AustinCare, policy numbers <span style=\"background: #69E2FB;\">TJ5501234</span> and MJ501234.</p><p>Their insurance provider is AustinCare, policy numbers <span style=\"background: #69E2FB;\">TJ&lt;REDACTED&gt;01234</span> and MJ501234.</p></div>\n"
     ]
    },
    {
     "data": {
      "text/html": [
       "<div style=\"display: grid;grid-template-columns: 1fr 1fr;grid-gap: 20px;\"><p></p><p></p><p><span style=\"background: #69E2FB;\">Tom Johnson, 55,</span> of 456 Maple Dr, Austin, <span style=\"background: #69E2FB;\">TX,</span> discussed his ongoing issues with insomnia</p><p><span style=\"background: #69E2FB;\">&lt;REDACTED&gt;, &lt;REDACTED&gt;,</span> of 456 Maple Dr, Austin, <span style=\"background: #69E2FB;\">&lt;REDACTED&gt;,</span> discussed his ongoing issues with insomnia</p><p>His wife, <span style=\"background: #69E2FB;\">Mary Johnson,</span> a <span style=\"background: #69E2FB;\">50-year-old</span> nurse at <span style=\"background: #69E2FB;\">Austin Hospital,</span> may also need consultation for stress</p><p>His wife, <span style=\"background: #69E2FB;\">&lt;REDACTED&gt;,</span> a <span style=\"background: #69E2FB;\">&lt;REDACTED&gt;</span> nurse at <span style=\"background: #69E2FB;\">&lt;REDACTED&gt;,</span> may also need consultation for stress</p><p><span style=\"background: #69E2FB;\">Tom&#x27;s</span> cell number is <span style=\"background: #69E2FB;\">555-890-1234</span> and <span style=\"background: #69E2FB;\">Mary&#x27;s</span> is <span style=\"background: #69E2FB;\">555-890-1235</span></p><p><span style=\"background: #69E2FB;\">&lt;REDACTED&gt;&#x27;s</span> cell number is <span style=\"background: #69E2FB;\">&lt;REDACTED&gt;5-890-1234</span> and <span style=\"background: #69E2FB;\">&lt;REDACTED&gt;&#x27;s</span> is <span style=\"background: #69E2FB;\">&lt;REDACTED&gt;5-890-1235</span></p><p>Their shared email address is johnsonfamily@email.com</p><p>Their shared email address is johnsonfamily@email.com</p><p>Their insurance provider is AustinCare, policy numbers <span style=\"background: #69E2FB;\">TJ5501234</span> and MJ501234.</p><p>Their insurance provider is AustinCare, policy numbers <span style=\"background: #69E2FB;\">TJ&lt;REDACTED&gt;01234</span> and MJ501234.</p></div>"
      ],
      "text/plain": [
       "<IPython.core.display.HTML object>"
      ]
     },
     "metadata": {},
     "output_type": "display_data"
    },
    {
     "name": "stdout",
     "output_type": "stream",
     "text": [
      "\n",
      "\n",
      "<div style=\"display: grid;grid-template-columns: 1fr 1fr;grid-gap: 20px;\"><p></p><p></p><p><span style=\"background: #69E2FB;\">Sarah Davis, DOB 08/07/1989,</span> admitted for a routine checkup</p><p><span style=\"background: #69E2FB;\">&lt;REDACTED&gt;, &lt;REDACTED&gt;,</span> admitted for a routine checkup</p><p>She lives at <span style=\"background: #69E2FB;\">78 Oak Avenue,</span> San Francisco, <span style=\"background: #69E2FB;\">CA</span> and works as a software engineer at BayTech</p><p>She lives at <span style=\"background: #69E2FB;\">&lt;REDACTED&gt;,</span> San Francisco, <span style=\"background: #69E2FB;\">&lt;REDACTED&gt;</span> and works as a software engineer at BayTech</p><p>Her contact number is <span style=\"background: #69E2FB;\">555-345-6789</span> and email address is sarahdavis@email.com</p><p>Her contact number is <span style=\"background: #69E2FB;\">&lt;REDACTED&gt;-345-6789</span> and email address is sarahdavis@email.com</p><p>Her insurance provider is SanFranCover, policy number SD8901234.</p><p>Her insurance provider is SanFranCover, policy number SD8901234.</p></div>\n"
     ]
    },
    {
     "data": {
      "text/html": [
       "<div style=\"display: grid;grid-template-columns: 1fr 1fr;grid-gap: 20px;\"><p></p><p></p><p><span style=\"background: #69E2FB;\">Sarah Davis, DOB 08/07/1989,</span> admitted for a routine checkup</p><p><span style=\"background: #69E2FB;\">&lt;REDACTED&gt;, &lt;REDACTED&gt;,</span> admitted for a routine checkup</p><p>She lives at <span style=\"background: #69E2FB;\">78 Oak Avenue,</span> San Francisco, <span style=\"background: #69E2FB;\">CA</span> and works as a software engineer at BayTech</p><p>She lives at <span style=\"background: #69E2FB;\">&lt;REDACTED&gt;,</span> San Francisco, <span style=\"background: #69E2FB;\">&lt;REDACTED&gt;</span> and works as a software engineer at BayTech</p><p>Her contact number is <span style=\"background: #69E2FB;\">555-345-6789</span> and email address is sarahdavis@email.com</p><p>Her contact number is <span style=\"background: #69E2FB;\">&lt;REDACTED&gt;-345-6789</span> and email address is sarahdavis@email.com</p><p>Her insurance provider is SanFranCover, policy number SD8901234.</p><p>Her insurance provider is SanFranCover, policy number SD8901234.</p></div>"
      ],
      "text/plain": [
       "<IPython.core.display.HTML object>"
      ]
     },
     "metadata": {},
     "output_type": "display_data"
    },
    {
     "name": "stdout",
     "output_type": "stream",
     "text": [
      "\n",
      "\n",
      "<div style=\"display: grid;grid-template-columns: 1fr 1fr;grid-gap: 20px;\"><p></p><p></p><p><span style=\"background: #69E2FB;\">Andrew White, DOB 12/03/1975,</span> came in for a follow-up on his hypertension treatment</p><p><span style=\"background: #69E2FB;\">&lt;REDACTED&gt;, &lt;REDACTED&gt;,</span> came in for a follow-up on his hypertension treatment</p><p><span style=\"background: #69E2FB;\">Andrew</span> is a chef at Riverside Diner, located at <span style=\"background: #69E2FB;\">123 Water Street,</span> Seattle, WA</p><p><span style=\"background: #69E2FB;\">&lt;REDACTED&gt;</span> is a chef at Riverside Diner, located at <span style=\"background: #69E2FB;\">&lt;REDACTED&gt;,</span> Seattle, WA</p><p>His wife, <span style=\"background: #69E2FB;\">Laura White,</span> is his emergency contact and can be reached at <span style=\"background: #69E2FB;\">555-987-6543</span></p><p>His wife, <span style=\"background: #69E2FB;\">&lt;REDACTED&gt;,</span> is his emergency contact and can be reached at <span style=\"background: #69E2FB;\">&lt;REDACTED&gt;-987-6543</span></p><p><span style=\"background: #69E2FB;\">Andrew&#x27;s</span> email address is andrewwhite@email.com</p><p><span style=\"background: #69E2FB;\">&lt;REDACTED&gt;&#x27;s</span> email address is andrewwhite@email.com</p><p>His insurance provider is <span style=\"background: #69E2FB;\">Seattle Health Solutions,</span> policy number AW7501234.</p><p>His insurance provider is <span style=\"background: #69E2FB;\">&lt;REDACTED&gt;,</span> policy number AW7501234.</p></div>\n"
     ]
    },
    {
     "data": {
      "text/html": [
       "<div style=\"display: grid;grid-template-columns: 1fr 1fr;grid-gap: 20px;\"><p></p><p></p><p><span style=\"background: #69E2FB;\">Andrew White, DOB 12/03/1975,</span> came in for a follow-up on his hypertension treatment</p><p><span style=\"background: #69E2FB;\">&lt;REDACTED&gt;, &lt;REDACTED&gt;,</span> came in for a follow-up on his hypertension treatment</p><p><span style=\"background: #69E2FB;\">Andrew</span> is a chef at Riverside Diner, located at <span style=\"background: #69E2FB;\">123 Water Street,</span> Seattle, WA</p><p><span style=\"background: #69E2FB;\">&lt;REDACTED&gt;</span> is a chef at Riverside Diner, located at <span style=\"background: #69E2FB;\">&lt;REDACTED&gt;,</span> Seattle, WA</p><p>His wife, <span style=\"background: #69E2FB;\">Laura White,</span> is his emergency contact and can be reached at <span style=\"background: #69E2FB;\">555-987-6543</span></p><p>His wife, <span style=\"background: #69E2FB;\">&lt;REDACTED&gt;,</span> is his emergency contact and can be reached at <span style=\"background: #69E2FB;\">&lt;REDACTED&gt;-987-6543</span></p><p><span style=\"background: #69E2FB;\">Andrew&#x27;s</span> email address is andrewwhite@email.com</p><p><span style=\"background: #69E2FB;\">&lt;REDACTED&gt;&#x27;s</span> email address is andrewwhite@email.com</p><p>His insurance provider is <span style=\"background: #69E2FB;\">Seattle Health Solutions,</span> policy number AW7501234.</p><p>His insurance provider is <span style=\"background: #69E2FB;\">&lt;REDACTED&gt;,</span> policy number AW7501234.</p></div>"
      ],
      "text/plain": [
       "<IPython.core.display.HTML object>"
      ]
     },
     "metadata": {},
     "output_type": "display_data"
    },
    {
     "name": "stdout",
     "output_type": "stream",
     "text": [
      "\n",
      "\n",
      "<div style=\"display: grid;grid-template-columns: 1fr 1fr;grid-gap: 20px;\"><p></p><p></p><p><span style=\"background: #69E2FB;\">Emily Green, DOB 20/04/1983,</span> consulted for her migraine issues</p><p><span style=\"background: #69E2FB;\">&lt;REDACTED&gt;, &lt;REDACTED&gt;,</span> consulted for her migraine issues</p><p>She is a pharmacist at <span style=\"background: #69E2FB;\">MedQuick,</span> located at <span style=\"background: #69E2FB;\">789 Pharmacy Lane,</span> Boston, MA</p><p>She is a pharmacist at <span style=\"background: #69E2FB;\">&lt;REDACTED&gt;,</span> located at <span style=\"background: #69E2FB;\">&lt;REDACTED&gt;,</span> Boston, MA</p><p>Her sister, <span style=\"background: #69E2FB;\">Linda Green,</span> is her next of kin and can be reached at lindagreen@email.com</p><p>Her sister, <span style=\"background: #69E2FB;\">&lt;REDACTED&gt;,</span> is her next of kin and can be reached at lindagreen@email.com</p><p>Emily&#x27;s phone number is <span style=\"background: #69E2FB;\">555-456-7890</span></p><p>Emily&#x27;s phone number is <span style=\"background: #69E2FB;\">&lt;REDACTED&gt;-456-7890</span></p><p>Her insurance provider is <span style=\"background: #69E2FB;\">Boston Health Insurance,</span> policy number EG8301234.</p><p>Her insurance provider is <span style=\"background: #69E2FB;\">&lt;REDACTED&gt;,</span> policy number EG8301234.</p></div>\n"
     ]
    },
    {
     "data": {
      "text/html": [
       "<div style=\"display: grid;grid-template-columns: 1fr 1fr;grid-gap: 20px;\"><p></p><p></p><p><span style=\"background: #69E2FB;\">Emily Green, DOB 20/04/1983,</span> consulted for her migraine issues</p><p><span style=\"background: #69E2FB;\">&lt;REDACTED&gt;, &lt;REDACTED&gt;,</span> consulted for her migraine issues</p><p>She is a pharmacist at <span style=\"background: #69E2FB;\">MedQuick,</span> located at <span style=\"background: #69E2FB;\">789 Pharmacy Lane,</span> Boston, MA</p><p>She is a pharmacist at <span style=\"background: #69E2FB;\">&lt;REDACTED&gt;,</span> located at <span style=\"background: #69E2FB;\">&lt;REDACTED&gt;,</span> Boston, MA</p><p>Her sister, <span style=\"background: #69E2FB;\">Linda Green,</span> is her next of kin and can be reached at lindagreen@email.com</p><p>Her sister, <span style=\"background: #69E2FB;\">&lt;REDACTED&gt;,</span> is her next of kin and can be reached at lindagreen@email.com</p><p>Emily&#x27;s phone number is <span style=\"background: #69E2FB;\">555-456-7890</span></p><p>Emily&#x27;s phone number is <span style=\"background: #69E2FB;\">&lt;REDACTED&gt;-456-7890</span></p><p>Her insurance provider is <span style=\"background: #69E2FB;\">Boston Health Insurance,</span> policy number EG8301234.</p><p>Her insurance provider is <span style=\"background: #69E2FB;\">&lt;REDACTED&gt;,</span> policy number EG8301234.</p></div>"
      ],
      "text/plain": [
       "<IPython.core.display.HTML object>"
      ]
     },
     "metadata": {},
     "output_type": "display_data"
    },
    {
     "name": "stdout",
     "output_type": "stream",
     "text": [
      "\n",
      "\n",
      "<div style=\"display: grid;grid-template-columns: 1fr 1fr;grid-gap: 20px;\"><p></p><p></p><p><span style=\"background: #69E2FB;\">Robert Brown,</span> a <span style=\"background: #69E2FB;\">60-year-old</span> retired teacher, lives at <span style=\"background: #69E2FB;\">321 Cedar Drive,</span> Phoenix, <span style=\"background: #69E2FB;\">AZ</span></p><p><span style=\"background: #69E2FB;\">&lt;REDACTED&gt;,</span> a <span style=\"background: #69E2FB;\">&lt;REDACTED&gt;</span> retired teacher, lives at <span style=\"background: #69E2FB;\">&lt;REDACTED&gt; &lt;REDACTED&gt;,</span> Phoenix, <span style=\"background: #69E2FB;\">&lt;REDACTED&gt;</span></p><p>His son, <span style=\"background: #69E2FB;\">Brian Brown,</span> is his primary contact and can be reached at <span style=\"background: #69E2FB;\">555-654-3210</span></p><p>His son, <span style=\"background: #69E2FB;\">&lt;REDACTED&gt;,</span> is his primary contact and can be reached at <span style=\"background: #69E2FB;\">555-654-&lt;REDACTED&gt;0</span></p><p><span style=\"background: #69E2FB;\">Robert&#x27;s</span> email address is robertbrown@email.com</p><p><span style=\"background: #69E2FB;\">&lt;REDACTED&gt;&#x27;s</span> email address is robertbrown@email.com</p><p>His insurance provider is <span style=\"background: #69E2FB;\">Phoenix Health Insurance,</span> policy number RB6001234.</p><p>His insurance provider is <span style=\"background: #69E2FB;\">&lt;REDACTED&gt;,</span> policy number RB6001234.</p></div>\n"
     ]
    },
    {
     "data": {
      "text/html": [
       "<div style=\"display: grid;grid-template-columns: 1fr 1fr;grid-gap: 20px;\"><p></p><p></p><p><span style=\"background: #69E2FB;\">Robert Brown,</span> a <span style=\"background: #69E2FB;\">60-year-old</span> retired teacher, lives at <span style=\"background: #69E2FB;\">321 Cedar Drive,</span> Phoenix, <span style=\"background: #69E2FB;\">AZ</span></p><p><span style=\"background: #69E2FB;\">&lt;REDACTED&gt;,</span> a <span style=\"background: #69E2FB;\">&lt;REDACTED&gt;</span> retired teacher, lives at <span style=\"background: #69E2FB;\">&lt;REDACTED&gt; &lt;REDACTED&gt;,</span> Phoenix, <span style=\"background: #69E2FB;\">&lt;REDACTED&gt;</span></p><p>His son, <span style=\"background: #69E2FB;\">Brian Brown,</span> is his primary contact and can be reached at <span style=\"background: #69E2FB;\">555-654-3210</span></p><p>His son, <span style=\"background: #69E2FB;\">&lt;REDACTED&gt;,</span> is his primary contact and can be reached at <span style=\"background: #69E2FB;\">555-654-&lt;REDACTED&gt;0</span></p><p><span style=\"background: #69E2FB;\">Robert&#x27;s</span> email address is robertbrown@email.com</p><p><span style=\"background: #69E2FB;\">&lt;REDACTED&gt;&#x27;s</span> email address is robertbrown@email.com</p><p>His insurance provider is <span style=\"background: #69E2FB;\">Phoenix Health Insurance,</span> policy number RB6001234.</p><p>His insurance provider is <span style=\"background: #69E2FB;\">&lt;REDACTED&gt;,</span> policy number RB6001234.</p></div>"
      ],
      "text/plain": [
       "<IPython.core.display.HTML object>"
      ]
     },
     "metadata": {},
     "output_type": "display_data"
    },
    {
     "name": "stdout",
     "output_type": "stream",
     "text": [
      "\n",
      "\n",
      "<div style=\"display: grid;grid-template-columns: 1fr 1fr;grid-gap: 20px;\"><p></p><p></p><p><span style=\"background: #69E2FB;\">Linda Taylor,</span> a <span style=\"background: #69E2FB;\">40-year-old</span> lawyer at <span style=\"background: #69E2FB;\">Phoenix Law Firm,</span> lives at <span style=\"background: #69E2FB;\">987 Pine Avenue,</span> Phoenix, <span style=\"background: #69E2FB;\">AZ</span></p><p><span style=\"background: #69E2FB;\">&lt;REDACTED&gt;,</span> a <span style=\"background: #69E2FB;\">&lt;REDACTED&gt;</span> lawyer at <span style=\"background: #69E2FB;\">&lt;REDACTED&gt;,</span> lives at <span style=\"background: #69E2FB;\">&lt;REDACTED&gt;,</span> Phoenix, <span style=\"background: #69E2FB;\">&lt;REDACTED&gt;</span></p><p>She reported recurring back pain</p><p>She reported recurring back pain</p><p>Her husband, <span style=\"background: #69E2FB;\">John Taylor,</span> is her emergency contact and can be reached at <span style=\"background: #69E2FB;\">555-321-6540</span></p><p>Her husband, <span style=\"background: #69E2FB;\">&lt;REDACTED&gt;,</span> is her emergency contact and can be reached at <span style=\"background: #69E2FB;\">&lt;REDACTED&gt;</span></p><p><span style=\"background: #69E2FB;\">Linda&#x27;s</span> email address is lindataylor@email.com</p><p><span style=\"background: #69E2FB;\">&lt;REDACTED&gt;&#x27;s</span> email address is lindataylor@email.com</p><p>Her insurance provider is <span style=\"background: #69E2FB;\">Phoenix Health Insurance,</span> policy number LT4001234.</p><p>Her insurance provider is <span style=\"background: #69E2FB;\">&lt;REDACTED&gt;,</span> policy number LT4001234.</p></div>\n"
     ]
    },
    {
     "data": {
      "text/html": [
       "<div style=\"display: grid;grid-template-columns: 1fr 1fr;grid-gap: 20px;\"><p></p><p></p><p><span style=\"background: #69E2FB;\">Linda Taylor,</span> a <span style=\"background: #69E2FB;\">40-year-old</span> lawyer at <span style=\"background: #69E2FB;\">Phoenix Law Firm,</span> lives at <span style=\"background: #69E2FB;\">987 Pine Avenue,</span> Phoenix, <span style=\"background: #69E2FB;\">AZ</span></p><p><span style=\"background: #69E2FB;\">&lt;REDACTED&gt;,</span> a <span style=\"background: #69E2FB;\">&lt;REDACTED&gt;</span> lawyer at <span style=\"background: #69E2FB;\">&lt;REDACTED&gt;,</span> lives at <span style=\"background: #69E2FB;\">&lt;REDACTED&gt;,</span> Phoenix, <span style=\"background: #69E2FB;\">&lt;REDACTED&gt;</span></p><p>She reported recurring back pain</p><p>She reported recurring back pain</p><p>Her husband, <span style=\"background: #69E2FB;\">John Taylor,</span> is her emergency contact and can be reached at <span style=\"background: #69E2FB;\">555-321-6540</span></p><p>Her husband, <span style=\"background: #69E2FB;\">&lt;REDACTED&gt;,</span> is her emergency contact and can be reached at <span style=\"background: #69E2FB;\">&lt;REDACTED&gt;</span></p><p><span style=\"background: #69E2FB;\">Linda&#x27;s</span> email address is lindataylor@email.com</p><p><span style=\"background: #69E2FB;\">&lt;REDACTED&gt;&#x27;s</span> email address is lindataylor@email.com</p><p>Her insurance provider is <span style=\"background: #69E2FB;\">Phoenix Health Insurance,</span> policy number LT4001234.</p><p>Her insurance provider is <span style=\"background: #69E2FB;\">&lt;REDACTED&gt;,</span> policy number LT4001234.</p></div>"
      ],
      "text/plain": [
       "<IPython.core.display.HTML object>"
      ]
     },
     "metadata": {},
     "output_type": "display_data"
    },
    {
     "name": "stdout",
     "output_type": "stream",
     "text": [
      "\n",
      "\n",
      "<div style=\"display: grid;grid-template-columns: 1fr 1fr;grid-gap: 20px;\"><p></p><p></p><p><span style=\"background: #69E2FB;\">Mary Wilson,</span> a <span style=\"background: #69E2FB;\">35-year-old</span> journalist at <span style=\"background: #69E2FB;\">Boston Tribune,</span> lives at <span style=\"background: #69E2FB;\">678</span> Media Circle, Boston, MA</p><p><span style=\"background: #69E2FB;\">&lt;REDACTED&gt;,</span> a <span style=\"background: #69E2FB;\">&lt;REDACTED&gt;</span> journalist at <span style=\"background: #69E2FB;\">&lt;REDACTED&gt;,</span> lives at <span style=\"background: #69E2FB;\">&lt;REDACTED&gt;</span> Media Circle, Boston, MA</p><p>She reported a persistent cough</p><p>She reported a persistent cough</p><p>Her partner, <span style=\"background: #69E2FB;\">Alex Wilson,</span> is her emergency contact and can be reached at <span style=\"background: #69E2FB;\">555-234-5670</span></p><p>Her partner, <span style=\"background: #69E2FB;\">&lt;REDACTED&gt;,</span> is her emergency contact and can be reached at <span style=\"background: #69E2FB;\">&lt;REDACTED&gt;-234-5670</span></p><p><span style=\"background: #69E2FB;\">Mary&#x27;s</span> email address is marywilson@email.com</p><p><span style=\"background: #69E2FB;\">&lt;REDACTED&gt;&#x27;s</span> email address is marywilson@email.com</p><p>Her insurance provider is <span style=\"background: #69E2FB;\">Boston Health Insurance,</span> policy number MW3501234.</p><p>Her insurance provider is <span style=\"background: #69E2FB;\">&lt;REDACTED&gt;,</span> policy number MW3501234.</p></div>\n"
     ]
    },
    {
     "data": {
      "text/html": [
       "<div style=\"display: grid;grid-template-columns: 1fr 1fr;grid-gap: 20px;\"><p></p><p></p><p><span style=\"background: #69E2FB;\">Mary Wilson,</span> a <span style=\"background: #69E2FB;\">35-year-old</span> journalist at <span style=\"background: #69E2FB;\">Boston Tribune,</span> lives at <span style=\"background: #69E2FB;\">678</span> Media Circle, Boston, MA</p><p><span style=\"background: #69E2FB;\">&lt;REDACTED&gt;,</span> a <span style=\"background: #69E2FB;\">&lt;REDACTED&gt;</span> journalist at <span style=\"background: #69E2FB;\">&lt;REDACTED&gt;,</span> lives at <span style=\"background: #69E2FB;\">&lt;REDACTED&gt;</span> Media Circle, Boston, MA</p><p>She reported a persistent cough</p><p>She reported a persistent cough</p><p>Her partner, <span style=\"background: #69E2FB;\">Alex Wilson,</span> is her emergency contact and can be reached at <span style=\"background: #69E2FB;\">555-234-5670</span></p><p>Her partner, <span style=\"background: #69E2FB;\">&lt;REDACTED&gt;,</span> is her emergency contact and can be reached at <span style=\"background: #69E2FB;\">&lt;REDACTED&gt;-234-5670</span></p><p><span style=\"background: #69E2FB;\">Mary&#x27;s</span> email address is marywilson@email.com</p><p><span style=\"background: #69E2FB;\">&lt;REDACTED&gt;&#x27;s</span> email address is marywilson@email.com</p><p>Her insurance provider is <span style=\"background: #69E2FB;\">Boston Health Insurance,</span> policy number MW3501234.</p><p>Her insurance provider is <span style=\"background: #69E2FB;\">&lt;REDACTED&gt;,</span> policy number MW3501234.</p></div>"
      ],
      "text/plain": [
       "<IPython.core.display.HTML object>"
      ]
     },
     "metadata": {},
     "output_type": "display_data"
    },
    {
     "name": "stdout",
     "output_type": "stream",
     "text": [
      "\n",
      "\n",
      "<div style=\"display: grid;grid-template-columns: 1fr 1fr;grid-gap: 20px;\"><p></p><p></p><p><span style=\"background: #69E2FB;\">David Thomas,</span> a <span style=\"background: #69E2FB;\">50-year-old</span> police officer, lives at 345 Justice <span style=\"background: #69E2FB;\">Lane,</span> New York, <span style=\"background: #69E2FB;\">NY</span></p><p><span style=\"background: #69E2FB;\">&lt;REDACTED&gt;,</span> a <span style=\"background: #69E2FB;\">&lt;REDACTED&gt;</span> police officer, lives at 345 Justice <span style=\"background: #69E2FB;\">&lt;REDACTED&gt;,</span> New York, <span style=\"background: #69E2FB;\">&lt;REDACTED&gt;</span></p><p>He reported frequent heartburn</p><p>He reported frequent heartburn</p><p>His wife, <span style=\"background: #69E2FB;\">Patricia Thomas,</span> is his emergency contact and can be reached at <span style=\"background: #69E2FB;\">555-567-2340</span></p><p>His wife, <span style=\"background: #69E2FB;\">&lt;REDACTED&gt;,</span> is his emergency contact and can be reached at <span style=\"background: #69E2FB;\">&lt;REDACTED&gt;</span></p><p><span style=\"background: #69E2FB;\">David&#x27;s</span> email address is davidthomas@email.com</p><p><span style=\"background: #69E2FB;\">&lt;REDACTED&gt;&#x27;s</span> email address is davidthomas@email.com</p><p>His insurance provider is <span style=\"background: #69E2FB;\">NY</span> Health Cover, policy number DT5001234.</p><p>His insurance provider is <span style=\"background: #69E2FB;\">&lt;REDACTED&gt;</span> Health Cover, policy number DT5001234.</p></div>\n"
     ]
    },
    {
     "data": {
      "text/html": [
       "<div style=\"display: grid;grid-template-columns: 1fr 1fr;grid-gap: 20px;\"><p></p><p></p><p><span style=\"background: #69E2FB;\">David Thomas,</span> a <span style=\"background: #69E2FB;\">50-year-old</span> police officer, lives at 345 Justice <span style=\"background: #69E2FB;\">Lane,</span> New York, <span style=\"background: #69E2FB;\">NY</span></p><p><span style=\"background: #69E2FB;\">&lt;REDACTED&gt;,</span> a <span style=\"background: #69E2FB;\">&lt;REDACTED&gt;</span> police officer, lives at 345 Justice <span style=\"background: #69E2FB;\">&lt;REDACTED&gt;,</span> New York, <span style=\"background: #69E2FB;\">&lt;REDACTED&gt;</span></p><p>He reported frequent heartburn</p><p>He reported frequent heartburn</p><p>His wife, <span style=\"background: #69E2FB;\">Patricia Thomas,</span> is his emergency contact and can be reached at <span style=\"background: #69E2FB;\">555-567-2340</span></p><p>His wife, <span style=\"background: #69E2FB;\">&lt;REDACTED&gt;,</span> is his emergency contact and can be reached at <span style=\"background: #69E2FB;\">&lt;REDACTED&gt;</span></p><p><span style=\"background: #69E2FB;\">David&#x27;s</span> email address is davidthomas@email.com</p><p><span style=\"background: #69E2FB;\">&lt;REDACTED&gt;&#x27;s</span> email address is davidthomas@email.com</p><p>His insurance provider is <span style=\"background: #69E2FB;\">NY</span> Health Cover, policy number DT5001234.</p><p>His insurance provider is <span style=\"background: #69E2FB;\">&lt;REDACTED&gt;</span> Health Cover, policy number DT5001234.</p></div>"
      ],
      "text/plain": [
       "<IPython.core.display.HTML object>"
      ]
     },
     "metadata": {},
     "output_type": "display_data"
    }
   ],
   "source": [
    "from utils import read_files\n",
    "from utils import deidentify_spacy \n",
    "from utils import html_diffs\n",
    "\n",
    "text_notes = read_files([\"data/6294\"], \"csv\", \"Doctor's Note\")\n",
    "# Benchmark each text note\n",
    "for i, note in enumerate(text_notes):\n",
    "    deid = deidentify_spacy(note)\n",
    "    # print(\"\\n\")\n",
    "    # print(html_diffs(note, deid))\n",
    "    display(HTML(html_diffs(note, deid)))"
   ]
  },
  {
   "cell_type": "code",
   "execution_count": null,
   "metadata": {},
   "outputs": [],
   "source": []
  }
 ],
 "metadata": {
  "kernelspec": {
   "display_name": "textkit",
   "language": "python",
   "name": "python3"
  },
  "language_info": {
   "codemirror_mode": {
    "name": "ipython",
    "version": 3
   },
   "file_extension": ".py",
   "mimetype": "text/x-python",
   "name": "python",
   "nbconvert_exporter": "python",
   "pygments_lexer": "ipython3",
   "version": "3.9.16"
  },
  "orig_nbformat": 4
 },
 "nbformat": 4,
 "nbformat_minor": 2
}
